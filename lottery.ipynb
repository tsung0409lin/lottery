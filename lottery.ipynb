{
 "cells": [
  {
   "cell_type": "markdown",
   "id": "3050e109",
   "metadata": {},
   "source": [
    "### 載入套件"
   ]
  },
  {
   "cell_type": "code",
   "execution_count": 1,
   "id": "ebe3c4f4",
   "metadata": {},
   "outputs": [],
   "source": [
    "import random\n",
    "import pandas\n",
    "import matplotlib.pyplot as plt"
   ]
  },
  {
   "cell_type": "markdown",
   "id": "4440dca7",
   "metadata": {},
   "source": [
    "### 遊戲規則、 idea 和定義函數\n",
    "#### 遊戲規則\n",
    "1. 頭獎整體中獎率大約5%，貳獎整體中獎率大約10%\n",
    "1. 頭獎和貳獎不能同時中獎\n",
    "1. 不要讓參與遊戲的人，在最初五次抽獎都完全沒中獎\n",
    "1. 儘量不要連續抽中獎，但也不可以完全沒機會連續抽中獎\n",
    "1. 不要讓參與遊戲的人，連續參加20次以上卻完全沒有中過獎  \n",
    "\n",
    "#### idea\n",
    "* 讓中獎率隨著累積沒中次數增加而增加，累積十九次沒中後保證中獎\n",
    "    * 使起初的中獎率低於5%和10%，同時可以降低連續中獎機率  \n",
    "    \n",
    "#### 定義函數\n",
    "* **generate_prizepool(jacket=7, second=15, guarantee=20)**  \n",
    "    * 用來生成保底次數內的獎池集合\n",
    "    * 可設定頭獎、貳獎數量和保底中獎次數\n",
    "    * 函數中產生沒中獎數量並隨機分成 *(保底次數-1)* 段，由大到小排序作為第一次至第十九次抽獎中包含的沒中獎數\n",
    "        * 使中獎率隨抽獎次數遞增\n",
    "        * 累積十九次沒中後，第二十次的獎池只有頭獎跟貳獎，保證中獎\n",
    "    * 回傳一個欄位有頭獎、貳獎和沒中獎數量的表格，二十列每列表示每次抽獎的獎項數  \n",
    "    \n",
    "    \n",
    "* **plot_prizepool(data)**\n",
    "    * 畫出獎池集合的柱狀圖\n",
    "    \n",
    "    \n",
    "* **iterate_prizepool(data, i=1)**\n",
    "    * 用於產生和更新獎池\n",
    "    * 0表沒中獎；1表貳獎；2表頭獎\n",
    "    * i 表示使用上述生成的獎池集合的第幾列抽獎。初始設為 1 ，即新的集合第一次抽獎，中獎率最低\n",
    "    * 後續隨著抽獎規則和累積沒中次數調整 i 的值  \n",
    "    \n",
    "    \n",
    "* **lottery(prizepool)**\n",
    "    * 進行一次抽獎行為\n",
    "    * 回傳 0(沒中獎)、1(中二獎)、2（中頭獎)"
   ]
  },
  {
   "cell_type": "code",
   "execution_count": 2,
   "id": "d2237e86",
   "metadata": {},
   "outputs": [],
   "source": [
    "def generate_prizepool(jackpot=7,second=15,guarantee=20): #頭獎7個,二獎15個,保底20次中獎\n",
    "    \n",
    "    #銘謝惠顧數量\n",
    "    failed=guarantee*(100-(jackpot+second))\n",
    "    \n",
    "    #將銘謝惠顧數量隨機分成19份並由大到小排序\n",
    "    s=sorted(random.sample(range(1,failed),k=guarantee-2),reverse=True)\n",
    "    s.insert(0,failed)\n",
    "    s.append(0)\n",
    "    gap=[]\n",
    "    for i in range(guarantee-1):\n",
    "        gap.append(s[i]-s[i+1])\n",
    "    gap=sorted(gap,reverse=True)\n",
    "    gap.append(0)\n",
    "    \n",
    "    #生成此次保底的獎池集\n",
    "    data=pandas.DataFrame(data={\n",
    "        'jackpot':jackpot,\n",
    "        'second':second,\n",
    "        'failed':gap\n",
    "    })\n",
    "    \n",
    "    #index設為抽獎次數\n",
    "    data.index=range(1,guarantee+1)\n",
    "    \n",
    "    data['sum']=data['jackpot']+data['second']+data['failed']  #目前沒用到\n",
    "    return data"
   ]
  },
  {
   "cell_type": "markdown",
   "id": "f663ceca",
   "metadata": {},
   "source": [
    "#### 頭獎和貳獎合併稱為中獎，數字表示中獎率"
   ]
  },
  {
   "cell_type": "code",
   "execution_count": 3,
   "id": "1cec1194",
   "metadata": {},
   "outputs": [],
   "source": [
    "def plot_prizepool(data):\n",
    "    labels=data.index\n",
    "    win=data['jackpot']+data['second']\n",
    "    fail=data['failed']\n",
    "    plt.figure(figsize=(4, 3), dpi=120)\n",
    "    #中獎\n",
    "    plt.bar(labels, win, label=\"win\")\n",
    "    #未中獎\n",
    "    plt.bar(labels, fail, bottom=win, label=\"failed\")\n",
    "    plt.legend(loc=\"upper right\")\n",
    "    for i in labels:\n",
    "      plt.text(i,\n",
    "              win[i] + fail[i] + 1,                 # 計算垂直高度\n",
    "              round(win[i]/(win[i]+fail[i]),2),\n",
    "              fontsize=5,\n",
    "              horizontalalignment='center')\n",
    "    plt.show()"
   ]
  },
  {
   "cell_type": "code",
   "execution_count": 4,
   "id": "36ec6297",
   "metadata": {
    "scrolled": false
   },
   "outputs": [
    {
     "data": {
      "image/png": "[encoded data removed]",
      "text/plain": [
       "<Figure size 480x360 with 1 Axes>"
      ]
     },
     "metadata": {},
     "output_type": "display_data"
    }
   ],
   "source": [
    "plot_prizepool(generate_prizepool())"
   ]
  },
  {
   "cell_type": "code",
   "execution_count": 5,
   "id": "7309ba5d",
   "metadata": {},
   "outputs": [],
   "source": [
    "def iterate_prizepool(data,i=1):\n",
    "    \n",
    "    prizepool=[0]*data['failed'][i]+[1]*data['second'][i]+[2]*data['jackpot'][i]\n",
    "    \n",
    "    return prizepool"
   ]
  },
  {
   "cell_type": "code",
   "execution_count": 6,
   "id": "65898e63",
   "metadata": {},
   "outputs": [],
   "source": [
    "def lottery(prizepool):\n",
    "    \n",
    "    #從獎池隨機抽一個獎\n",
    "    result=random.choice(prizepool)\n",
    "    \n",
    "    return result"
   ]
  },
  {
   "cell_type": "markdown",
   "id": "84964950",
   "metadata": {},
   "source": [
    "### 模擬抽獎一萬次\n",
    "* 最初將生成獎池集合的函數 guarantee 設為 5，可達到最初五次至少中獎一次\n",
    "* 中獎後生成新的獎池集合（保底二十次會中獎），並將累積沒中次數歸零"
   ]
  },
  {
   "cell_type": "code",
   "execution_count": 7,
   "id": "7812e433",
   "metadata": {},
   "outputs": [],
   "source": [
    "highest=0  #累積沒中次數\n",
    "chighest=[] #遊戲中累積沒中次數\n",
    "data=generate_prizepool(guarantee=5)  #生成一個保底五次的奬池集\n",
    "prizepool=iterate_prizepool(data,i=1)  #初始獎池\n",
    "totalresult=[]\n",
    "for i in range(10000):\n",
    "    result=lottery(prizepool)\n",
    "    totalresult.append(result)\n",
    "        \n",
    "    #若沒中獎沒中次數加一，若中獎則生成新獎池集，沒中次數歸零\n",
    "    if result == 0:\n",
    "        highest += 1\n",
    "    else:\n",
    "        data=generate_prizepool()  #保底預設為20抽\n",
    "        chighest.append(highest)\n",
    "        highest=0\n",
    "        \n",
    "    #更新獎池\n",
    "    prizepool = iterate_prizepool(data, i=highest+1)"
   ]
  },
  {
   "cell_type": "code",
   "execution_count": 8,
   "id": "ee4393b8",
   "metadata": {},
   "outputs": [
    {
     "name": "stdout",
     "output_type": "stream",
     "text": [
      "沒中獎佔了 84.09 %\n",
      "\n",
      "抽中二獎佔了 11.02 %\n",
      "\n",
      "抽中頭獎佔了 4.89 %\n",
      "\n"
     ]
    }
   ],
   "source": [
    "print(\"沒中獎佔了\",round(totalresult.count(0)/10000*100,2), \"%\\n\")\n",
    "print(\"抽中二獎佔了\",round(totalresult.count(1)/10000*100,2), \"%\\n\")\n",
    "print(\"抽中頭獎佔了\", round(totalresult.count(2)/10000*100,2), \"%\\n\")"
   ]
  },
  {
   "cell_type": "code",
   "execution_count": 9,
   "id": "fed37b50",
   "metadata": {},
   "outputs": [
    {
     "name": "stdout",
     "output_type": "stream",
     "text": [
      "第一次中獎發生在第 4 次抽獎\n"
     ]
    }
   ],
   "source": [
    "print(\"第一次中獎發生在第\", chighest[0]+1,\"次抽獎\")"
   ]
  },
  {
   "cell_type": "code",
   "execution_count": 10,
   "id": "12024b6a",
   "metadata": {},
   "outputs": [
    {
     "name": "stdout",
     "output_type": "stream",
     "text": [
      "最多連續沒中次數為 19 次\n"
     ]
    }
   ],
   "source": [
    "print(\"最多連續沒中次數為\", max(chighest), \"次\")"
   ]
  },
  {
   "cell_type": "markdown",
   "id": "bef4c298",
   "metadata": {},
   "source": [
    "### 玩家兩次中獎間抽獎次數"
   ]
  },
  {
   "cell_type": "code",
   "execution_count": 11,
   "id": "3220fe86",
   "metadata": {},
   "outputs": [],
   "source": [
    "cumulative_highest=[]\n",
    "for i in range(20):\n",
    "    cumulative_highest.append(chighest.count(i))"
   ]
  },
  {
   "cell_type": "code",
   "execution_count": 12,
   "id": "392a1666",
   "metadata": {},
   "outputs": [
    {
     "data": {
      "image/png": "[encoded data removed]",
      "text/plain": [
       "<Figure size 720x480 with 1 Axes>"
      ]
     },
     "metadata": {},
     "output_type": "display_data"
    }
   ],
   "source": [
    "labels = range(20)\n",
    "plt.figure(figsize=(6, 4), dpi=120)\n",
    "plt.bar(labels, cumulative_highest, width=0.4)\n",
    "plt.xticks(range(20))\n",
    "plt.show()"
   ]
  },
  {
   "cell_type": "markdown",
   "id": "4f1d4e30",
   "metadata": {},
   "source": [
    "### 總中獎次數中，連續中獎比例"
   ]
  },
  {
   "cell_type": "code",
   "execution_count": 13,
   "id": "7a8133c3",
   "metadata": {},
   "outputs": [],
   "source": [
    "data=[cumulative_highest[0],sum(cumulative_highest[1:])]\n",
    "labels=['winning streak', 'no winning streak']"
   ]
  },
  {
   "cell_type": "code",
   "execution_count": 14,
   "id": "4e3ba779",
   "metadata": {},
   "outputs": [
    {
     "data": {
      "image/png": "[encoded data removed]",
      "text/plain": [
       "<Figure size 600x600 with 1 Axes>"
      ]
     },
     "metadata": {},
     "output_type": "display_data"
    }
   ],
   "source": [
    "plt.figure(figsize=(5, 5), dpi=120)\n",
    "plt.pie(\n",
    "    data,\n",
    "    autopct='%.1f%%',\n",
    "    radius=1,\n",
    "    pctdistance=0.8,\n",
    "    wedgeprops=dict(linewidth=1, width=0.35),\n",
    "    labels=labels\n",
    ")\n",
    "plt.show()"
   ]
  },
  {
   "cell_type": "code",
   "execution_count": null,
   "id": "67a0dc12",
   "metadata": {},
   "outputs": [],
   "source": []
  }
 ],
 "metadata": {
  "kernelspec": {
   "display_name": "Python 3 (ipykernel)",
   "language": "python",
   "name": "python3"
  },
  "language_info": {
   "codemirror_mode": {
    "name": "ipython",
    "version": 3
   },
   "file_extension": ".py",
   "mimetype": "text/x-python",
   "name": "python",
   "nbconvert_exporter": "python",
   "pygments_lexer": "ipython3",
   "version": "3.9.13"
  }
 },
 "nbformat": 4,
 "nbformat_minor": 5
}
